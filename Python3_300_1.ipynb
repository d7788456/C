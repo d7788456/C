{
  "nbformat": 4,
  "nbformat_minor": 0,
  "metadata": {
    "colab": {
      "name": "Python3-300-1.ipynb",
      "version": "0.3.2",
      "provenance": [],
      "include_colab_link": true
    },
    "kernelspec": {
      "name": "python3",
      "display_name": "Python 3"
    }
  },
  "cells": [
    {
      "cell_type": "markdown",
      "metadata": {
        "id": "view-in-github",
        "colab_type": "text"
      },
      "source": [
        "<a href=\"https://colab.research.google.com/github/d7788456/C/blob/master/Python3_300_1.ipynb\" target=\"_parent\"><img src=\"https://colab.research.google.com/assets/colab-badge.svg\" alt=\"Open In Colab\"/></a>"
      ]
    },
    {
      "metadata": {
        "id": "72ZKcHPVxAFX",
        "colab_type": "code",
        "colab": {
          "base_uri": "https://localhost:8080/",
          "height": 35
        },
        "outputId": "6a407d8d-f78d-40bc-8b68-b8cffbcdb3e0"
      },
      "cell_type": "code",
      "source": [
        "import time\n",
        "#import time??引入time模組\n",
        "\n",
        "currentTime = time.time() # Get current time\n",
        "\n",
        "# Obtain the total seconds since midnight, Jan 1, 1970\n",
        "totalSeconds = int(currentTime)\n",
        "\n",
        "# Get the current second \n",
        "currentSecond = totalSeconds % 60 \n",
        "\n",
        "# Obtain the total minutes\n",
        "totalMinutes = totalSeconds // 60 \n",
        "\n",
        "# Compute the current minute in the hour\n",
        "currentMinute = totalMinutes % 60\n",
        "\n",
        "# Obtain the total hours\n",
        "totalHours = totalMinutes // 60\n",
        "\n",
        "# Compute the current hour\n",
        "currentHour = totalHours % 24\n",
        "\n",
        "# Display results\n",
        "print(\"Current time is \" + str(currentHour) + \":\"\n",
        "    + str(currentMinute) + \":\" + str(currentSecond) + \" GMT\")\n",
        "#str??\n"
      ],
      "execution_count": 9,
      "outputs": [
        {
          "output_type": "stream",
          "text": [
            "Current time is 6:4:18 GMT\n"
          ],
          "name": "stdout"
        }
      ]
    },
    {
      "metadata": {
        "id": "kREa1fj-zv3J",
        "colab_type": "text"
      },
      "cell_type": "markdown",
      "source": [
        "###chapter2-7\n",
        "it is my homework 4070E002\n",
        " \n",
        "###Showcurrenttime.py\n",
        " "
      ]
    },
    {
      "metadata": {
        "id": "W8pMF4xg1JOh",
        "colab_type": "code",
        "colab": {
          "base_uri": "https://localhost:8080/",
          "height": 52
        },
        "outputId": "57260bf8-bc89-4f4a-a62b-e9aef9261eb0"
      },
      "cell_type": "code",
      "source": [
        "# Prompt the user for input\n",
        "purchaseAmount = eval(input(\"Enter purchase amount: \"))\n",
        "#purchaseAmount??\n",
        "\n",
        "# Compute sales tax\n",
        "tax = purchaseAmount * 0.06\n",
        "\n",
        "# Display tax amount with two digits after decimal point\n",
        "print(\"Sales tax is\", int(tax * 100) / 100.0)\n"
      ],
      "execution_count": 4,
      "outputs": [
        {
          "output_type": "stream",
          "text": [
            "Enter purchase amount: 197.55\n",
            "Sales tax is 11.85\n"
          ],
          "name": "stdout"
        }
      ]
    },
    {
      "metadata": {
        "id": "jAE9EbHT1XwZ",
        "colab_type": "text"
      },
      "cell_type": "markdown",
      "source": [
        "###Chapter2-6\n",
        "4070E002 \n",
        "\n",
        "###SalesTax.py"
      ]
    },
    {
      "metadata": {
        "id": "MMlNZayA2ibA",
        "colab_type": "code",
        "colab": {
          "base_uri": "https://localhost:8080/",
          "height": 52
        },
        "outputId": "83214ec4-27b5-4a42-bff7-aa8ed69dad00"
      },
      "cell_type": "code",
      "source": [
        "# Prompt the user for input\n",
        "seconds = eval(input(\"Enter an integer for seconds: \"))\n",
        "#eval(input? 函数用来执行一个字符串表达式，并返回表达式的值\n",
        "\n",
        "# Get minutes and remaining seconds\n",
        "minutes = seconds // 60     # Find minutes in seconds\n",
        "remainingSeconds = seconds % 60   # Seconds remaining\n",
        "print(seconds, \"seconds is\", minutes,  \n",
        "  \"minutes and\", remainingSeconds, \"seconds\")\n"
      ],
      "execution_count": 10,
      "outputs": [
        {
          "output_type": "stream",
          "text": [
            "Enter an integer for seconds: 500\n",
            "500 seconds is 8 minutes and 20 seconds\n"
          ],
          "name": "stdout"
        }
      ]
    },
    {
      "metadata": {
        "id": "JT30gjh03Wih",
        "colab_type": "text"
      },
      "cell_type": "markdown",
      "source": [
        "###Chapter2-5\n",
        "\n",
        "4070E002\n",
        "\n",
        "###Displaytime.py"
      ]
    },
    {
      "metadata": {
        "id": "opb_YB169QER",
        "colab_type": "code",
        "colab": {
          "base_uri": "https://localhost:8080/",
          "height": 69
        },
        "outputId": "56a8923a-07f8-4648-aef6-6b40bc65d8ec"
      },
      "cell_type": "code",
      "source": [
        "# Display three messages\n",
        "print(\"Welcome to Python\")\n",
        "print(\"Python is fun\")\n",
        "print(\"i'm 4070E002\")"
      ],
      "execution_count": 12,
      "outputs": [
        {
          "output_type": "stream",
          "text": [
            "Welcome to Python\n",
            "Python is fun\n",
            "i'm 4070E002\n"
          ],
          "name": "stdout"
        }
      ]
    },
    {
      "metadata": {
        "id": "yB9i9ZpO9mP4",
        "colab_type": "text"
      },
      "cell_type": "markdown",
      "source": [
        "###Chapter1-1\n",
        "\n",
        "Welcome to python\n",
        "\n",
        "###Welcome.py"
      ]
    },
    {
      "metadata": {
        "id": "s9KUeUqZ9u_f",
        "colab_type": "code",
        "colab": {
          "base_uri": "https://localhost:8080/",
          "height": 87
        },
        "outputId": "e88ab508-dddc-44fb-ed80-8930c98b0105"
      },
      "cell_type": "code",
      "source": [
        "# Display four messages\n",
        "print(\"Welcome to Python\")\n",
        "print(\"Python is fun\")\n",
        "print(\"Problem Driven\")  \n",
        "print(\"i'm 4070E002\")  "
      ],
      "execution_count": 13,
      "outputs": [
        {
          "output_type": "stream",
          "text": [
            "Welcome to Python\n",
            "Python is fun\n",
            "Problem Driven\n",
            "i'm 4070E002\n"
          ],
          "name": "stdout"
        }
      ]
    },
    {
      "metadata": {
        "id": "oTGMJkas-ECo",
        "colab_type": "text"
      },
      "cell_type": "markdown",
      "source": [
        "###Chapter1-2\n",
        "\n",
        "Four messages\n",
        "\n",
        "###Welcome with four messages.py"
      ]
    },
    {
      "metadata": {
        "id": "1E9Kh-v5-BTH",
        "colab_type": "code",
        "colab": {
          "base_uri": "https://localhost:8080/",
          "height": 35
        },
        "outputId": "94e2d750-6603-440c-afd6-95b0508c5a01"
      },
      "cell_type": "code",
      "source": [
        "# Compute expression\n",
        "print((10.5 + 2 * 3) / (45 -3.5))\n"
      ],
      "execution_count": 16,
      "outputs": [
        {
          "output_type": "stream",
          "text": [
            "0.39759036144578314\n"
          ],
          "name": "stdout"
        }
      ]
    },
    {
      "metadata": {
        "id": "0wpmI_xr-7mX",
        "colab_type": "text"
      },
      "cell_type": "markdown",
      "source": [
        "###Chapter1-3\n",
        "\n",
        "+-*/\n",
        "\n",
        "###computer expression.py"
      ]
    },
    {
      "metadata": {
        "id": "kxTHRV00_J3H",
        "colab_type": "code",
        "colab": {
          "base_uri": "https://localhost:8080/",
          "height": 52
        },
        "outputId": "f26232f6-a55e-4807-9ccb-52b8b7fb5208"
      },
      "cell_type": "code",
      "source": [
        "# Convert Fahrenheit to Celsius\n",
        "print(\"Fahrenheit 35 is Celsius degree \")\n",
        "print(5 / 9 * (35 - 32))\n"
      ],
      "execution_count": 17,
      "outputs": [
        {
          "output_type": "stream",
          "text": [
            "Fahrenheit 35 is Celsius degree \n",
            "1.6666666666666667\n"
          ],
          "name": "stdout"
        }
      ]
    },
    {
      "metadata": {
        "id": "MtMx-Qxm_WdA",
        "colab_type": "text"
      },
      "cell_type": "markdown",
      "source": [
        "###Chapter1-4\n",
        "\n",
        "errors.\n",
        "\n",
        "###Show logic errors.py"
      ]
    },
    {
      "metadata": {
        "id": "kvNqfgamBAPw",
        "colab_type": "code",
        "colab": {}
      },
      "cell_type": "code",
      "source": [
        ""
      ],
      "execution_count": 0,
      "outputs": []
    }
  ]
}